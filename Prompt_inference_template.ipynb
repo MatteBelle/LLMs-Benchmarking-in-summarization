{
 "cells": [
  {
   "cell_type": "markdown",
   "metadata": {},
   "source": [
    "# Controllable Text Summarization via Prompt Injection"
   ]
  },
  {
   "cell_type": "markdown",
   "metadata": {},
   "source": [
    "Guiding LLMs to generate summaries of specific lengths and format (e.g., five sentences, 280 words, bullet list) poses a considerable challenge. This study seeks to experiment with prompt injection strategies aimed at directing LLMs towards fulfilling user-requested summary accurately."
   ]
  },
  {
   "cell_type": "markdown",
   "metadata": {},
   "source": [
    "Prompt injection is a technique that involves adding a prompt to the input of a language model to guide its output. The prompt can be a sentence, a paragraph, or a set of instructions that the model should follow. In this study, we will experiment with different prompt injection strategies to guide the model to generate summaries of specific lengths and formats.\n",
    "\n",
    "We mainly focus on the following prompt injection strategies:\n",
    "\n",
    "Reasoning-based prompts: \n",
    "-   Generate a text {10-20-30} times shorter\n",
    "-   Generate a text of length e•ln^2 w.r.t. the number of words in the document\n",
    "\n",
    "Instruction-based prompts:\n",
    "-   Generate a summary of {50-75-100-125-150-175-200} words\n",
    "-   Generate a 1-sentence summary\n",
    "-   Generate a bullet point of 3-5-10 items summarizing the document"
   ]
  },
  {
   "cell_type": "markdown",
   "metadata": {},
   "source": [
    "#### Imports and library installations:"
   ]
  },
  {
   "cell_type": "code",
   "execution_count": null,
   "metadata": {},
   "outputs": [],
   "source": [
    "#pip install wandb"
   ]
  },
  {
   "cell_type": "code",
   "execution_count": 26,
   "metadata": {},
   "outputs": [],
   "source": [
    "import pickle\n",
    "import matplotlib.pyplot as plt\n",
    "import numpy as np\n",
    "import nltk\n",
    "from nltk.tokenize import word_tokenize, sent_tokenize\n",
    "import pandas as pd\n",
    "import wandb\n",
    "import math"
   ]
  },
  {
   "cell_type": "markdown",
   "metadata": {},
   "source": [
    "### Dataset loading:"
   ]
  },
  {
   "cell_type": "code",
   "execution_count": 4,
   "metadata": {},
   "outputs": [],
   "source": [
    "# Load dataset from file \n",
    "with open('pubmed.pkl', 'rb') as f:\n",
    "    dataset = pickle.load(f)"
   ]
  },
  {
   "cell_type": "code",
   "execution_count": 5,
   "metadata": {},
   "outputs": [
    {
     "data": {
      "image/png": "[encoded data removed]",
      "text/plain": [
       "<Figure size 1000x500 with 2 Axes>"
      ]
     },
     "metadata": {},
     "output_type": "display_data"
    }
   ],
   "source": [
    "# Plot the length of each summary and of each text in two separate histograms as subplots\n",
    "fig, axs = plt.subplots(1, 2, figsize=(10, 5))\n",
    "axs[0].hist([len(x) for x in dataset['summary']], bins=20)\n",
    "axs[0].set_title('Summary length')\n",
    "axs[1].hist([len(x) for x in dataset['document']], bins=20)\n",
    "axs[1].set_title('Text length')\n",
    "plt.show()"
   ]
  },
  {
   "cell_type": "markdown",
   "metadata": {},
   "source": [
    "Tokenization using nltk library:"
   ]
  },
  {
   "cell_type": "code",
   "execution_count": 6,
   "metadata": {},
   "outputs": [
    {
     "data": {
      "text/html": [
       "<div>\n",
       "<style scoped>\n",
       "    .dataframe tbody tr th:only-of-type {\n",
       "        vertical-align: middle;\n",
       "    }\n",
       "\n",
       "    .dataframe tbody tr th {\n",
       "        vertical-align: top;\n",
       "    }\n",
       "\n",
       "    .dataframe thead th {\n",
       "        text-align: right;\n",
       "    }\n",
       "</style>\n",
       "<table border=\"1\" class=\"dataframe\">\n",
       "  <thead>\n",
       "    <tr style=\"text-align: right;\">\n",
       "      <th></th>\n",
       "      <th>summary</th>\n",
       "      <th>document</th>\n",
       "      <th>document_len</th>\n",
       "      <th>original_summary</th>\n",
       "      <th>original_document</th>\n",
       "    </tr>\n",
       "  </thead>\n",
       "  <tbody>\n",
       "    <tr>\n",
       "      <th>0</th>\n",
       "      <td>[we, determined, the, extent, and, distributio...</td>\n",
       "      <td>[survival, rates, continue, to, improve, with,...</td>\n",
       "      <td>2042</td>\n",
       "      <td>we determined the extent and distribution of c...</td>\n",
       "      <td>survival rates continue to improve with the ad...</td>\n",
       "    </tr>\n",
       "    <tr>\n",
       "      <th>1</th>\n",
       "      <td>[methodsstudents, attending, five, different, ...</td>\n",
       "      <td>[for, every, living, creature, ,, elderliness,...</td>\n",
       "      <td>2535</td>\n",
       "      <td>methodsstudents attending five different types...</td>\n",
       "      <td>for every living creature , elderliness is the...</td>\n",
       "    </tr>\n",
       "    <tr>\n",
       "      <th>2</th>\n",
       "      <td>[the, voltage, -, gated, k, channel, database,...</td>\n",
       "      <td>[voltage, -, gated, k, channels, (, vkcs, ), c...</td>\n",
       "      <td>2482</td>\n",
       "      <td>the voltage - gated k channel database ( vkcdb...</td>\n",
       "      <td>voltage - gated k channels ( vkcs ) constitute...</td>\n",
       "    </tr>\n",
       "    <tr>\n",
       "      <th>3</th>\n",
       "      <td>[variations, in, quantity, and, quality, of, e...</td>\n",
       "      <td>[medicinal, plants, have, been, used, for, cen...</td>\n",
       "      <td>2561</td>\n",
       "      <td>variations in quantity and quality of essentia...</td>\n",
       "      <td>medicinal plants have been used for centuries ...</td>\n",
       "    </tr>\n",
       "    <tr>\n",
       "      <th>4</th>\n",
       "      <td>[aim, ., acute, pancreatitis, is, an, inflamma...</td>\n",
       "      <td>[acute, pancreatitis, is, an, inflammatory, in...</td>\n",
       "      <td>3080</td>\n",
       "      <td>aim . acute pancreatitis is an inflammatory in...</td>\n",
       "      <td>acute pancreatitis is an inflammatory intra - ...</td>\n",
       "    </tr>\n",
       "  </tbody>\n",
       "</table>\n",
       "</div>"
      ],
      "text/plain": [
       "                                             summary  \\\n",
       "0  [we, determined, the, extent, and, distributio...   \n",
       "1  [methodsstudents, attending, five, different, ...   \n",
       "2  [the, voltage, -, gated, k, channel, database,...   \n",
       "3  [variations, in, quantity, and, quality, of, e...   \n",
       "4  [aim, ., acute, pancreatitis, is, an, inflamma...   \n",
       "\n",
       "                                            document  document_len  \\\n",
       "0  [survival, rates, continue, to, improve, with,...          2042   \n",
       "1  [for, every, living, creature, ,, elderliness,...          2535   \n",
       "2  [voltage, -, gated, k, channels, (, vkcs, ), c...          2482   \n",
       "3  [medicinal, plants, have, been, used, for, cen...          2561   \n",
       "4  [acute, pancreatitis, is, an, inflammatory, in...          3080   \n",
       "\n",
       "                                    original_summary  \\\n",
       "0  we determined the extent and distribution of c...   \n",
       "1  methodsstudents attending five different types...   \n",
       "2  the voltage - gated k channel database ( vkcdb...   \n",
       "3  variations in quantity and quality of essentia...   \n",
       "4  aim . acute pancreatitis is an inflammatory in...   \n",
       "\n",
       "                                   original_document  \n",
       "0  survival rates continue to improve with the ad...  \n",
       "1  for every living creature , elderliness is the...  \n",
       "2  voltage - gated k channels ( vkcs ) constitute...  \n",
       "3  medicinal plants have been used for centuries ...  \n",
       "4  acute pancreatitis is an inflammatory intra - ...  "
      ]
     },
     "execution_count": 6,
     "metadata": {},
     "output_type": "execute_result"
    }
   ],
   "source": [
    "# Tokenize the documents and summaries\n",
    "tokenized_dataframe = pd.DataFrame()\n",
    "tokenized_dataframe['summary'] = dataset['summary'].apply(word_tokenize)\n",
    "tokenized_dataframe['document'] = dataset['document'].apply(word_tokenize)\n",
    "tokenized_dataframe['document_len'] = tokenized_dataframe['document'].apply(len)\n",
    "tokenized_dataframe['original_summary'] = dataset['summary']\n",
    "tokenized_dataframe['original_document'] = dataset['document']\n",
    "\n",
    "tokenized_dataframe.head()"
   ]
  },
  {
   "cell_type": "code",
   "execution_count": 7,
   "metadata": {},
   "outputs": [
    {
     "name": "stdout",
     "output_type": "stream",
     "text": [
      "Number of documents:  667\n"
     ]
    }
   ],
   "source": [
    "print(\"Number of documents: \", len(tokenized_dataframe))"
   ]
  },
  {
   "cell_type": "markdown",
   "metadata": {},
   "source": [
    "Filtering based on max context length for the model:"
   ]
  },
  {
   "cell_type": "code",
   "execution_count": 8,
   "metadata": {},
   "outputs": [],
   "source": [
    "model_max_context_length = {\"llama2-chat\": 4096}"
   ]
  },
  {
   "cell_type": "code",
   "execution_count": 9,
   "metadata": {},
   "outputs": [
    {
     "data": {
      "text/html": [
       "<div>\n",
       "<style scoped>\n",
       "    .dataframe tbody tr th:only-of-type {\n",
       "        vertical-align: middle;\n",
       "    }\n",
       "\n",
       "    .dataframe tbody tr th {\n",
       "        vertical-align: top;\n",
       "    }\n",
       "\n",
       "    .dataframe thead th {\n",
       "        text-align: right;\n",
       "    }\n",
       "</style>\n",
       "<table border=\"1\" class=\"dataframe\">\n",
       "  <thead>\n",
       "    <tr style=\"text-align: right;\">\n",
       "      <th></th>\n",
       "      <th>summary</th>\n",
       "      <th>document</th>\n",
       "      <th>document_len</th>\n",
       "      <th>original_summary</th>\n",
       "      <th>original_document</th>\n",
       "    </tr>\n",
       "  </thead>\n",
       "  <tbody>\n",
       "    <tr>\n",
       "      <th>0</th>\n",
       "      <td>[we, determined, the, extent, and, distributio...</td>\n",
       "      <td>[survival, rates, continue, to, improve, with,...</td>\n",
       "      <td>2042</td>\n",
       "      <td>we determined the extent and distribution of c...</td>\n",
       "      <td>survival rates continue to improve with the ad...</td>\n",
       "    </tr>\n",
       "    <tr>\n",
       "      <th>1</th>\n",
       "      <td>[methodsstudents, attending, five, different, ...</td>\n",
       "      <td>[for, every, living, creature, ,, elderliness,...</td>\n",
       "      <td>2535</td>\n",
       "      <td>methodsstudents attending five different types...</td>\n",
       "      <td>for every living creature , elderliness is the...</td>\n",
       "    </tr>\n",
       "    <tr>\n",
       "      <th>2</th>\n",
       "      <td>[the, voltage, -, gated, k, channel, database,...</td>\n",
       "      <td>[voltage, -, gated, k, channels, (, vkcs, ), c...</td>\n",
       "      <td>2482</td>\n",
       "      <td>the voltage - gated k channel database ( vkcdb...</td>\n",
       "      <td>voltage - gated k channels ( vkcs ) constitute...</td>\n",
       "    </tr>\n",
       "    <tr>\n",
       "      <th>3</th>\n",
       "      <td>[variations, in, quantity, and, quality, of, e...</td>\n",
       "      <td>[medicinal, plants, have, been, used, for, cen...</td>\n",
       "      <td>2561</td>\n",
       "      <td>variations in quantity and quality of essentia...</td>\n",
       "      <td>medicinal plants have been used for centuries ...</td>\n",
       "    </tr>\n",
       "    <tr>\n",
       "      <th>4</th>\n",
       "      <td>[aim, ., acute, pancreatitis, is, an, inflamma...</td>\n",
       "      <td>[acute, pancreatitis, is, an, inflammatory, in...</td>\n",
       "      <td>3080</td>\n",
       "      <td>aim . acute pancreatitis is an inflammatory in...</td>\n",
       "      <td>acute pancreatitis is an inflammatory intra - ...</td>\n",
       "    </tr>\n",
       "  </tbody>\n",
       "</table>\n",
       "</div>"
      ],
      "text/plain": [
       "                                             summary  \\\n",
       "0  [we, determined, the, extent, and, distributio...   \n",
       "1  [methodsstudents, attending, five, different, ...   \n",
       "2  [the, voltage, -, gated, k, channel, database,...   \n",
       "3  [variations, in, quantity, and, quality, of, e...   \n",
       "4  [aim, ., acute, pancreatitis, is, an, inflamma...   \n",
       "\n",
       "                                            document  document_len  \\\n",
       "0  [survival, rates, continue, to, improve, with,...          2042   \n",
       "1  [for, every, living, creature, ,, elderliness,...          2535   \n",
       "2  [voltage, -, gated, k, channels, (, vkcs, ), c...          2482   \n",
       "3  [medicinal, plants, have, been, used, for, cen...          2561   \n",
       "4  [acute, pancreatitis, is, an, inflammatory, in...          3080   \n",
       "\n",
       "                                    original_summary  \\\n",
       "0  we determined the extent and distribution of c...   \n",
       "1  methodsstudents attending five different types...   \n",
       "2  the voltage - gated k channel database ( vkcdb...   \n",
       "3  variations in quantity and quality of essentia...   \n",
       "4  aim . acute pancreatitis is an inflammatory in...   \n",
       "\n",
       "                                   original_document  \n",
       "0  survival rates continue to improve with the ad...  \n",
       "1  for every living creature , elderliness is the...  \n",
       "2  voltage - gated k channels ( vkcs ) constitute...  \n",
       "3  medicinal plants have been used for centuries ...  \n",
       "4  acute pancreatitis is an inflammatory intra - ...  "
      ]
     },
     "execution_count": 9,
     "metadata": {},
     "output_type": "execute_result"
    }
   ],
   "source": [
    "model = \"llama2-chat\"\n",
    "max_context_length = model_max_context_length[model]\n",
    "\n",
    "# Filter out documents that are too long\n",
    "tokenized_dataframe = tokenized_dataframe[tokenized_dataframe['document_len'] <= max_context_length]\n",
    "\n",
    "tokenized_dataframe.head()\n"
   ]
  },
  {
   "cell_type": "code",
   "execution_count": 10,
   "metadata": {},
   "outputs": [
    {
     "name": "stdout",
     "output_type": "stream",
     "text": [
      "Number of documents after filtering: 513\n"
     ]
    }
   ],
   "source": [
    "print(f\"Number of documents after filtering: {len(tokenized_dataframe)}\")"
   ]
  },
  {
   "cell_type": "code",
   "execution_count": 11,
   "metadata": {},
   "outputs": [],
   "source": [
    "# remove from the dataframe rows in which the length of the summary is greater than the length of the document\n",
    "def sanitize(df):\n",
    "    df = df[df['original_summary'].apply(len) <= df['original_document'].apply(len)]\n",
    "    return df "
   ]
  },
  {
   "cell_type": "code",
   "execution_count": 12,
   "metadata": {},
   "outputs": [
    {
     "name": "stdout",
     "output_type": "stream",
     "text": [
      "Number of documents after sanitizing: 508\n"
     ]
    }
   ],
   "source": [
    "tokenized_dataframe = sanitize(tokenized_dataframe)\n",
    "\n",
    "print(f\"Number of documents after sanitizing: {len(tokenized_dataframe)}\")"
   ]
  },
  {
   "cell_type": "markdown",
   "metadata": {},
   "source": [
    "Here we define some example prompts which we use for one-shot inference:"
   ]
  },
  {
   "cell_type": "code",
   "execution_count": 13,
   "metadata": {},
   "outputs": [],
   "source": [
    "prompt_example_text = \"The impact of climate change on global weather patterns has become increasingly evident in recent years, with more frequent and intense storms, heatwaves, and wildfires being reported across the world. Scientists warn that without immediate and concerted efforts to reduce greenhouse gas emissions and mitigate the effects of climate change, these extreme weather events will only become more severe, posing significant risks to human societies, economies, and ecosystems.\"\n",
    "prompt_example_summary_one_sentence = \"Climate change is causing more extreme weather events worldwide, and urgent action is needed to reduce greenhouse gas emissions and mitigate its impacts to prevent further escalation of risks to society, economies, and ecosystems.\"\n",
    "prompt_example_summary_3_bullet = \"Automation and AI advancements are transforming the job market, raising worries about job displacement. Proponents highlight the potential for increased productivity, innovation, and the emergence of new job sectors. Successful adaptation requires investment in retraining programs, lifelong learning, and supportive policies for workers transitioning to new roles.\"\n",
    "prompt_example_text_10_percent = \"In recent years, advances in renewable energy technologies have significantly expanded the options for generating clean and sustainable electricity. Solar photovoltaic (PV) panels, wind turbines, and hydroelectric power plants are among the most widely adopted renewable energy sources, offering environmentally friendly alternatives to fossil fuels. These technologies harness natural resources like sunlight, wind, and water to produce electricity without emitting greenhouse gases or other harmful pollutants. As a result, renewable energy has emerged as a key solution to mitigating climate change and reducing dependence on finite fossil fuel resources. Moreover, the declining costs of renewable energy systems have made them increasingly competitive with traditional energy sources, driving widespread adoption and investment in renewable energy infrastructure worldwide.\"\n",
    "prompt_example_summary_10_percent = \"Renewable energy technologies like solar, wind, and hydro are gaining traction as clean alternatives to fossil fuels, offering environmentally friendly electricity generation without greenhouse gas emissions.\""
   ]
  },
  {
   "cell_type": "markdown",
   "metadata": {},
   "source": [
    "### Prompt definitions:"
   ]
  },
  {
   "cell_type": "code",
   "execution_count": 14,
   "metadata": {},
   "outputs": [],
   "source": [
    "prompts_before = [\n",
    "                'Generate a summary 10 times shorter for the following text: ',\n",
    "                'Generate a summary 20 times shorter for the following text: ',\n",
    "                'Generate a summary 30 times shorter for the following text: ',\n",
    "                'Generate a summary of lenght 50 words: ',\n",
    "                'Generate a summary of lenght 75 words: ',\n",
    "                'Generate a summary of lenght 100 words: ',\n",
    "                'Generate a summary of lenght 125 words: ',\n",
    "                'Generate a summary of lenght 150 words: ',\n",
    "                'Generate a summary of lenght 175 words: ',\n",
    "                'Generate a summary of lenght 200 words: ',\n",
    "                'Summarise this text in 1 sentence: ',\n",
    "                'Summarise this text in 5 sentences: ',\n",
    "                'Summarise this text in 10 sentences: ',\n",
    "                'Summarise this text in 3 bullet-points: ',\n",
    "                'Summarise this text in 5 bullet-points: ',\n",
    "                'Summarise this text in 10 bullet-points: ',\n",
    "                'Summarise this text in 1 sentence.\\n Text: ',\n",
    "                'Summarise this text in 5 sentences.\\n Text: ',\n",
    "                'Summarise this text in 10 sentences.\\n Text: ',\n",
    "                ]\n",
    "\n",
    "prompts_after = [' Summary: ',\n",
    "                 '',\n",
    "                 ' Example summary: ',]"
   ]
  },
  {
   "cell_type": "code",
   "execution_count": 2,
   "metadata": {},
   "outputs": [],
   "source": [
    "# This function is used to generate prompts for the model to generate an output on zero-shot inference\n",
    "def prompt_creation_zero_shot(data, special_tokens, pb, pa, length_based=False):\n",
    "\n",
    "    document = data['original_document']\n",
    "    summary = data['original_summary']\n",
    "    doc_len = data['document_len']\n",
    "    if length_based:\n",
    "        # Length-based prompts are used to generate summaries of different lengths = exln^2\n",
    "        size = math.ceil(math.exp(1) * (math.pow(math.log(doc_len), 2)))\n",
    "        print(\"Size: \", size)\n",
    "        text = f\"Generate a summary of length {size}: \"\n",
    "        prompt = f\"{special_tokens}{text}{document}{prompts_after[pa]}{special_tokens}\"\n",
    "        return prompt\n",
    "    prompt = f\"{special_tokens}{prompts_before[pb]}{document}{prompts_after[pa]}{special_tokens}\"\n",
    "    return prompt\n",
    "\n",
    "def prompt_creation_one_shot(data, special_tokens, pb, pa, ten_percent = False, one_sentence = False, three_bullet = False):\n",
    "    document = data['original_document']\n",
    "    summary = data['original_summary']\n",
    "    if ten_percent:\n",
    "        prompt = f\"{special_tokens}{prompts_before[pb]}{prompt_example_text_10_percent}{prompts_after[2]}{prompt_example_summary_10_percent}{prompts_before[pb]}{document}{prompts_after[pa]}{special_tokens}\"\n",
    "        return prompt\n",
    "    if one_sentence:\n",
    "        prompt = f\"{special_tokens}{prompts_before[pb]}{prompt_example_text}{prompts_after[2]}{prompt_example_summary_one_sentence}{prompts_before[pb]}{document}{prompts_after[pa]}{special_tokens}\"\n",
    "        return prompt\n",
    "    if three_bullet:\n",
    "        prompt = f\"{special_tokens}{prompts_before[pb]}{prompt_example_text}{prompts_after[2]}{prompt_example_summary_3_bullet}{prompts_before[pb]}{document}{prompts_after[pa]}{special_tokens}\"\n",
    "        return prompt\n",
    "    return prompt"
   ]
  },
  {
   "cell_type": "code",
   "execution_count": 15,
   "metadata": {},
   "outputs": [
    {
     "data": {
      "text/plain": [
       "\"Generate a summary 10 times shorter for the following text: survival rates continue to improve with the advent of more refined treatments and better supportive care . today over 80 of children with cancer are alive for at least five years , and the majority of these are cured . as a consequence , many sufferers of childhood cancer are now living into adulthood and having families of their own . it has been estimated that about 1 in 900 adults aged 18 to 44 years is a cancer survivor . among this group , those with an inherited susceptibility to cancer will transmit their genetic fault to a proportion of their children . they are also at risk of developing a second cancer during their adult life . while the causes of the majority of childhood cancers are largely unknown , there are a number of clinical syndromes for which the evidence for an excess cancer risk in children is most persuasive . these include li - fraumeni syndrome , neurofibromatosis type i , inherited retinoblastoma mutations , familial wilms tumor , and some disorders of dna repair . these syndromes collectively account for less than 10 of all childhood cancers , however . beyond this , it is not clear if cancer in childhood increases the risk of cancer in relatives . a number of recent studies have described an association between childhood cancer and cancer in first - degree relatives 57 , particularly siblings 5 , 7 and mothers . in this study , we describe the distribution of cancers in australian children and estimate the risks of cancer in their relatives . it was established from the clinical services at the royal children  is hospital ( rch ) and the monash medical centre ( mmc ) , between which over 95 of children under 10 years of age and 83 of children aged 1015 years with cancer within the state of victoria , australia , are treated . children were eligible for inclusion if they had a diagnosis of any cancer before age 15 and when initial treatment was given at one of the participating centres between october 1998 and october 2002 . the human research ethics committee at each participating institution reviewed and approved the protocol before enrolment commenced . a total of 486 ( 422 at rch and 64 at mmc ) incident cases of childhood cancer were diagnosed during the study period . of these , 21 families were found to be ineligible ( seven non - english speaking parents , seven where the proband was aged over 15 years , six where the proband did not have their initial treatment at either service , and one where the proband was adopted ) . of the remaining 465 families , 21 were not contactable , 53 refused to participate , 6 were lost to followup , and 6 later withdrew consent . this left 379 ( 82 ) families participating ( 340 at rch and 39 at mmc ) , from which we interviewed 351 ( 92.6 ) fathers and 371 ( 97.9 ) mothers . in 343 ( 90.5 ) families , both the mother and father were interviewed , while in 28 ( 7.4 ) families only the mother was interviewed and in 8 ( 2.1 ) families only the father was interviewed . at the time of enrolment , both parents of the affected child were asked a baseline questionnaire that included information on lifestyle and environmental risk factors and a detailed family history of cancer . where half siblings were identified , the appropriate , biologically relevant family history was obtained . the family history of cancer questionnaire asked about all of the affected child  is siblings , parents , aunts , uncles , and grandparents ( i. e. all first - degree and second - degree relatives ) . parents were asked to identify each first - degree and second - degree relative , any known cancer diagnoses with the age ( in years ) at diagnosis , and type of malignancy , together with their current age or age at the time of death . the information collected was reviewed and classified by the authors with expertise in cancer ( jah ; es ) . the world health organization  is international classification of diseases for oncology , 3rd edition ( id - o-3 ) scheme , was used for classification of site of malignancy . nonmelanoma skin cancers , nonmalignant tumours , and in situ cancerswere not included in the analyses . to address the potential contribution of known familial cancer syndromes , we examined the medical records of the 26 affected children who had a first - degree relative with cancer . in particular , we sought clinical evidence for li - fraumeni syndrome , neurofibromatosis type 1 , familial retinoblastoma , and familial wilm  is tumour syndrome . person - years at risk for the cohort of relatives were calculated as the time to date of diagnosis of cancer , date of death , or date of interview completion , whichever occurred earliest . australian population - based cancer incidence data , specific for gender , age , and year of birth , were obtained from the australian institute of health and welfare . standardised incidence ratios were used to compare the number of observed cancers in relatives with the number expected in the australian population . robust estimates for confidence intervals were calculated to account for potential clustering within a family . all statistical tests were two - sided and a p value 0.05 was considered statistically significant . the distribution of childhood cancers diagnosed in the cohort of 379 children is summarized in table 1 . a family history for cancer was identified in 4,736 ( 1,337 first - degree and 3,399 second - degree ) relatives with a total of 211,394 person - years of followup . fourteen of the 379 ( 3.7 ) families reported a positive history for childhood cancer in any relative , with none having more than one case identified . twenty - six children with cancer ( 6.9 ) had a first - degree relative ( parent or sibling ) with a history of cancer . the results for the family history of cancer in all childhood cancer patients are summarized in table 2 . there was a higher than expected , though not statistically significant , incidence of childhood cancer among first - degree relatives ( sir 1.43 ; 95 ci 0.545.08 ) . there was also a higher than expected , though not statistically significant , incidence of cancer among first - degree relatives ( sir 1.45 ; 95 ci 0.932.1 ) . there was a statistically significant increase in cancer among female first - degree relatives ( sir 1.82 ; 95 ci 1.263.39 ) . the increased family cancer history in first - degree females was largely attributable to an effect in mothers ( sir 1.78 ; 95 ci 1.273.33 ) but was also observed in sisters ( sir 2.15 ; n 1 ) . elevated cancer incidence rates were also observed in aunts ( sir 1.48 ; 95 ci 1.112.00 ) . the gender - specific association was reflected in higher than expected incidence rates of breast cancer in mothers ( sir 1.92 ; 95 ci 0.726.83 ) , aunts ( sir 1.64 ; 95 ci 0.982.94 ) and to a lesser extent grandmothers ( sir 1.04 ; 95 ci 0.781.40 ) . although numbers were small , an increased cancer incidence in relatives appeared to be most apparent in the children with sarcomas ( sir 2.58 ; 95 ci 0.998.52 ) , embryonal tumors ( sir 2.12 ; 95 ci 0.719.34 ) , and brain tumors ( sir 1.52 ; 95 ci 0.703.92 ) . of the 26 families with a history of cancer within a first - degree relative , only one met the criteria for a clinically recognizable familial cancer syndrome ( li fraumeni syndrome ) . the increased rates of cancer in female first - degree relatives ( sir 1.68 ; 95 ci 1.032.93 ) , including mothers ( sir 1.78 ; 95 ci 1.093.09 ) and aunts ( sir 1.49 ; 95 ci 1.122.02 ) , remained when this child and family were removed from the analyses . our small , population - based study suggests an increased risk of childhood cancer and some adult cancers among relatives of childhood cancer patients that are not accounted for by clinically identifiable familial cancer syndromes . these findings were seen in both first- and second - degree relatives . although some of our findings did not reach statistical significance , they are largely consistent with previously published unselected childhood cancer cohorts 57 , 12 and add to a growing body of evidence that unidentified genetic risk exists in some families . in addition to the small size of the study , other limitations include the use of family history in isolation and the absence of some parental input to family history of cancer . while we were not able to cross - reference reported history of cancer with cancer registry data , a similar study in sweden confirmed underreporting of cancer in relatives by history . furthermore , in the small minority of cases where both parents were not available to provide the relevant family history of cancer , underreporting of the family history of cancer is also likely . allowing for these two study biases towards the null hypothesis is therefore likely to strengthen the positive findings we have reported . this underreporting may also explain why a large number of apparent protective effects occurred in second - degree relatives , where direct , personal access to a family history of cancer is not always possible . overall , first - degree relatives ( siblings and parents ) had an increased incidence of childhood tumors . this is consistent with the higher occurrence of childhood cancers among siblings demonstrated in a study of 51,000 children who developed cancer under the age of 15 in the uk , even after those with a genetic etiology were excluded . it was also reported in a cohort of 13,703 childhood cancer survivors in north america ( sir 1.5 ; 95 ci 1.351.7 ) . the apparent association of childhood cancer with adult cancers in female relatives is fascinating and supports a recently published population - based study from utah , usa , where a higher risk of adult cancer was restricted to mothers and siblings ( sir 1.31 ; 95 ci 1.111.56 ) but was not observed in fathers . it is interesting to note that the effect was greatest for children younger than 5 years at diagnosis ( sir 1.48 ; 95 ci 1.131.95 ) , suggesting a strong ante- or perinatal effect . factors which may be related to maternal effects on childhood cancer risk include maternal age of pregnancies , altered in utero exposures , and birth weight . our finding of an increased prevalence of breast cancer in female relatives also supports recently published swedish data . a number of related studies have also observed higher rates of breast cancer in mothers and sisters 1416 . the potential link between breast cancer and childhood cancer is of great interest , given past reports of increased rates of childhood cancer in families carrying a brca1 or brca2 mutation 17 , 18 . our study was not designed nor powered to examine the relationship between specific childhood cancer types and family history of cancer , so it must be acknowledged that potential associations may have gone undetected . certainly , others have postulated a link between family history of cancer and the more common subtypes , childhood leukaemia , childhood lymphomas , and childhood brain tumours . the epidemiology of childhood cancer described here is the starting point for further explorations into identifying previously unrecognized genetic predisposition to childhood cancer . we are currently undertaking whole genome sequencing of these children with cancer and their affected first - degree relatives ' germline dna in order to identify the role of previously described and novel genetic mutations to account for our findings . Summary: \""
      ]
     },
     "execution_count": 15,
     "metadata": {},
     "output_type": "execute_result"
    }
   ],
   "source": [
    "prompt_creation_zero_shot(tokenized_dataframe.iloc[0], \"\", 0, 0, length_based=False)"
   ]
  },
  {
   "cell_type": "code",
   "execution_count": 16,
   "metadata": {},
   "outputs": [
    {
     "data": {
      "text/plain": [
       "\"Generate a summary 10 times shorter for the following text: In recent years, advances in renewable energy technologies have significantly expanded the options for generating clean and sustainable electricity. Solar photovoltaic (PV) panels, wind turbines, and hydroelectric power plants are among the most widely adopted renewable energy sources, offering environmentally friendly alternatives to fossil fuels. These technologies harness natural resources like sunlight, wind, and water to produce electricity without emitting greenhouse gases or other harmful pollutants. As a result, renewable energy has emerged as a key solution to mitigating climate change and reducing dependence on finite fossil fuel resources. Moreover, the declining costs of renewable energy systems have made them increasingly competitive with traditional energy sources, driving widespread adoption and investment in renewable energy infrastructure worldwide. Example summary: Renewable energy technologies like solar, wind, and hydro are gaining traction as clean alternatives to fossil fuels, offering environmentally friendly electricity generation without greenhouse gas emissions.Generate a summary 10 times shorter for the following text: survival rates continue to improve with the advent of more refined treatments and better supportive care . today over 80 of children with cancer are alive for at least five years , and the majority of these are cured . as a consequence , many sufferers of childhood cancer are now living into adulthood and having families of their own . it has been estimated that about 1 in 900 adults aged 18 to 44 years is a cancer survivor . among this group , those with an inherited susceptibility to cancer will transmit their genetic fault to a proportion of their children . they are also at risk of developing a second cancer during their adult life . while the causes of the majority of childhood cancers are largely unknown , there are a number of clinical syndromes for which the evidence for an excess cancer risk in children is most persuasive . these include li - fraumeni syndrome , neurofibromatosis type i , inherited retinoblastoma mutations , familial wilms tumor , and some disorders of dna repair . these syndromes collectively account for less than 10 of all childhood cancers , however . beyond this , it is not clear if cancer in childhood increases the risk of cancer in relatives . a number of recent studies have described an association between childhood cancer and cancer in first - degree relatives 57 , particularly siblings 5 , 7 and mothers . in this study , we describe the distribution of cancers in australian children and estimate the risks of cancer in their relatives . it was established from the clinical services at the royal children  is hospital ( rch ) and the monash medical centre ( mmc ) , between which over 95 of children under 10 years of age and 83 of children aged 1015 years with cancer within the state of victoria , australia , are treated . children were eligible for inclusion if they had a diagnosis of any cancer before age 15 and when initial treatment was given at one of the participating centres between october 1998 and october 2002 . the human research ethics committee at each participating institution reviewed and approved the protocol before enrolment commenced . a total of 486 ( 422 at rch and 64 at mmc ) incident cases of childhood cancer were diagnosed during the study period . of these , 21 families were found to be ineligible ( seven non - english speaking parents , seven where the proband was aged over 15 years , six where the proband did not have their initial treatment at either service , and one where the proband was adopted ) . of the remaining 465 families , 21 were not contactable , 53 refused to participate , 6 were lost to followup , and 6 later withdrew consent . this left 379 ( 82 ) families participating ( 340 at rch and 39 at mmc ) , from which we interviewed 351 ( 92.6 ) fathers and 371 ( 97.9 ) mothers . in 343 ( 90.5 ) families , both the mother and father were interviewed , while in 28 ( 7.4 ) families only the mother was interviewed and in 8 ( 2.1 ) families only the father was interviewed . at the time of enrolment , both parents of the affected child were asked a baseline questionnaire that included information on lifestyle and environmental risk factors and a detailed family history of cancer . where half siblings were identified , the appropriate , biologically relevant family history was obtained . the family history of cancer questionnaire asked about all of the affected child  is siblings , parents , aunts , uncles , and grandparents ( i. e. all first - degree and second - degree relatives ) . parents were asked to identify each first - degree and second - degree relative , any known cancer diagnoses with the age ( in years ) at diagnosis , and type of malignancy , together with their current age or age at the time of death . the information collected was reviewed and classified by the authors with expertise in cancer ( jah ; es ) . the world health organization  is international classification of diseases for oncology , 3rd edition ( id - o-3 ) scheme , was used for classification of site of malignancy . nonmelanoma skin cancers , nonmalignant tumours , and in situ cancerswere not included in the analyses . to address the potential contribution of known familial cancer syndromes , we examined the medical records of the 26 affected children who had a first - degree relative with cancer . in particular , we sought clinical evidence for li - fraumeni syndrome , neurofibromatosis type 1 , familial retinoblastoma , and familial wilm  is tumour syndrome . person - years at risk for the cohort of relatives were calculated as the time to date of diagnosis of cancer , date of death , or date of interview completion , whichever occurred earliest . australian population - based cancer incidence data , specific for gender , age , and year of birth , were obtained from the australian institute of health and welfare . standardised incidence ratios were used to compare the number of observed cancers in relatives with the number expected in the australian population . robust estimates for confidence intervals were calculated to account for potential clustering within a family . all statistical tests were two - sided and a p value 0.05 was considered statistically significant . the distribution of childhood cancers diagnosed in the cohort of 379 children is summarized in table 1 . a family history for cancer was identified in 4,736 ( 1,337 first - degree and 3,399 second - degree ) relatives with a total of 211,394 person - years of followup . fourteen of the 379 ( 3.7 ) families reported a positive history for childhood cancer in any relative , with none having more than one case identified . twenty - six children with cancer ( 6.9 ) had a first - degree relative ( parent or sibling ) with a history of cancer . the results for the family history of cancer in all childhood cancer patients are summarized in table 2 . there was a higher than expected , though not statistically significant , incidence of childhood cancer among first - degree relatives ( sir 1.43 ; 95 ci 0.545.08 ) . there was also a higher than expected , though not statistically significant , incidence of cancer among first - degree relatives ( sir 1.45 ; 95 ci 0.932.1 ) . there was a statistically significant increase in cancer among female first - degree relatives ( sir 1.82 ; 95 ci 1.263.39 ) . the increased family cancer history in first - degree females was largely attributable to an effect in mothers ( sir 1.78 ; 95 ci 1.273.33 ) but was also observed in sisters ( sir 2.15 ; n 1 ) . elevated cancer incidence rates were also observed in aunts ( sir 1.48 ; 95 ci 1.112.00 ) . the gender - specific association was reflected in higher than expected incidence rates of breast cancer in mothers ( sir 1.92 ; 95 ci 0.726.83 ) , aunts ( sir 1.64 ; 95 ci 0.982.94 ) and to a lesser extent grandmothers ( sir 1.04 ; 95 ci 0.781.40 ) . although numbers were small , an increased cancer incidence in relatives appeared to be most apparent in the children with sarcomas ( sir 2.58 ; 95 ci 0.998.52 ) , embryonal tumors ( sir 2.12 ; 95 ci 0.719.34 ) , and brain tumors ( sir 1.52 ; 95 ci 0.703.92 ) . of the 26 families with a history of cancer within a first - degree relative , only one met the criteria for a clinically recognizable familial cancer syndrome ( li fraumeni syndrome ) . the increased rates of cancer in female first - degree relatives ( sir 1.68 ; 95 ci 1.032.93 ) , including mothers ( sir 1.78 ; 95 ci 1.093.09 ) and aunts ( sir 1.49 ; 95 ci 1.122.02 ) , remained when this child and family were removed from the analyses . our small , population - based study suggests an increased risk of childhood cancer and some adult cancers among relatives of childhood cancer patients that are not accounted for by clinically identifiable familial cancer syndromes . these findings were seen in both first- and second - degree relatives . although some of our findings did not reach statistical significance , they are largely consistent with previously published unselected childhood cancer cohorts 57 , 12 and add to a growing body of evidence that unidentified genetic risk exists in some families . in addition to the small size of the study , other limitations include the use of family history in isolation and the absence of some parental input to family history of cancer . while we were not able to cross - reference reported history of cancer with cancer registry data , a similar study in sweden confirmed underreporting of cancer in relatives by history . furthermore , in the small minority of cases where both parents were not available to provide the relevant family history of cancer , underreporting of the family history of cancer is also likely . allowing for these two study biases towards the null hypothesis is therefore likely to strengthen the positive findings we have reported . this underreporting may also explain why a large number of apparent protective effects occurred in second - degree relatives , where direct , personal access to a family history of cancer is not always possible . overall , first - degree relatives ( siblings and parents ) had an increased incidence of childhood tumors . this is consistent with the higher occurrence of childhood cancers among siblings demonstrated in a study of 51,000 children who developed cancer under the age of 15 in the uk , even after those with a genetic etiology were excluded . it was also reported in a cohort of 13,703 childhood cancer survivors in north america ( sir 1.5 ; 95 ci 1.351.7 ) . the apparent association of childhood cancer with adult cancers in female relatives is fascinating and supports a recently published population - based study from utah , usa , where a higher risk of adult cancer was restricted to mothers and siblings ( sir 1.31 ; 95 ci 1.111.56 ) but was not observed in fathers . it is interesting to note that the effect was greatest for children younger than 5 years at diagnosis ( sir 1.48 ; 95 ci 1.131.95 ) , suggesting a strong ante- or perinatal effect . factors which may be related to maternal effects on childhood cancer risk include maternal age of pregnancies , altered in utero exposures , and birth weight . our finding of an increased prevalence of breast cancer in female relatives also supports recently published swedish data . a number of related studies have also observed higher rates of breast cancer in mothers and sisters 1416 . the potential link between breast cancer and childhood cancer is of great interest , given past reports of increased rates of childhood cancer in families carrying a brca1 or brca2 mutation 17 , 18 . our study was not designed nor powered to examine the relationship between specific childhood cancer types and family history of cancer , so it must be acknowledged that potential associations may have gone undetected . certainly , others have postulated a link between family history of cancer and the more common subtypes , childhood leukaemia , childhood lymphomas , and childhood brain tumours . the epidemiology of childhood cancer described here is the starting point for further explorations into identifying previously unrecognized genetic predisposition to childhood cancer . we are currently undertaking whole genome sequencing of these children with cancer and their affected first - degree relatives ' germline dna in order to identify the role of previously described and novel genetic mutations to account for our findings . Summary: \""
      ]
     },
     "execution_count": 16,
     "metadata": {},
     "output_type": "execute_result"
    }
   ],
   "source": [
    "prompt_creation_one_shot(tokenized_dataframe.iloc[0], \"\", 0, 0, ten_percent=True, one_sentence=False, three_bullet=False)"
   ]
  },
  {
   "cell_type": "markdown",
   "metadata": {},
   "source": [
    "### Connection to WandB:"
   ]
  },
  {
   "cell_type": "code",
   "execution_count": 2,
   "metadata": {},
   "outputs": [
    {
     "name": "stderr",
     "output_type": "stream",
     "text": [
      "Failed to detect the name of this notebook, you can set it manually with the WANDB_NOTEBOOK_NAME environment variable to enable code saving.\n",
      "\u001b[34m\u001b[1mwandb\u001b[0m: Currently logged in as: \u001b[33mcipdev16\u001b[0m (\u001b[33mdeep-mining-project\u001b[0m). Use \u001b[1m`wandb login --relogin`\u001b[0m to force relogin\n",
      "\u001b[34m\u001b[1mwandb\u001b[0m: \u001b[33mWARNING\u001b[0m If you're specifying your api key in code, ensure this code is not shared publicly.\n",
      "\u001b[34m\u001b[1mwandb\u001b[0m: \u001b[33mWARNING\u001b[0m Consider setting the WANDB_API_KEY environment variable, or running `wandb login` from the command line.\n",
      "\u001b[34m\u001b[1mwandb\u001b[0m: Appending key for api.wandb.ai to your netrc file: C:\\Users\\Ciprian\\.netrc\n"
     ]
    },
    {
     "data": {
      "text/plain": [
       "True"
      ]
     },
     "execution_count": 2,
     "metadata": {},
     "output_type": "execute_result"
    }
   ],
   "source": [
    "wandb.login(key='YOUR_API_KEY')"
   ]
  },
  {
   "cell_type": "code",
   "execution_count": 4,
   "metadata": {},
   "outputs": [
    {
     "data": {
      "text/html": [
       "Tracking run with wandb version 0.16.3"
      ],
      "text/plain": [
       "<IPython.core.display.HTML object>"
      ]
     },
     "metadata": {},
     "output_type": "display_data"
    },
    {
     "data": {
      "text/html": [
       "Run data is saved locally in <code>d:\\LLMs-Benchmarking-in-summarization\\wandb\\run-20240215_170944-18orbbx9</code>"
      ],
      "text/plain": [
       "<IPython.core.display.HTML object>"
      ]
     },
     "metadata": {},
     "output_type": "display_data"
    },
    {
     "data": {
      "text/html": [
       "Syncing run <strong><a href='https://wandb.ai/deep-mining-project/TEST/runs/18orbbx9' target=\"_blank\">indulgent-tulip-1</a></strong> to <a href='https://wandb.ai/deep-mining-project/TEST' target=\"_blank\">Weights & Biases</a> (<a href='https://wandb.me/run' target=\"_blank\">docs</a>)<br/>"
      ],
      "text/plain": [
       "<IPython.core.display.HTML object>"
      ]
     },
     "metadata": {},
     "output_type": "display_data"
    },
    {
     "data": {
      "text/html": [
       " View project at <a href='https://wandb.ai/deep-mining-project/TEST' target=\"_blank\">https://wandb.ai/deep-mining-project/TEST</a>"
      ],
      "text/plain": [
       "<IPython.core.display.HTML object>"
      ]
     },
     "metadata": {},
     "output_type": "display_data"
    },
    {
     "data": {
      "text/html": [
       " View run at <a href='https://wandb.ai/deep-mining-project/TEST/runs/18orbbx9' target=\"_blank\">https://wandb.ai/deep-mining-project/TEST/runs/18orbbx9</a>"
      ],
      "text/plain": [
       "<IPython.core.display.HTML object>"
      ]
     },
     "metadata": {},
     "output_type": "display_data"
    }
   ],
   "source": [
    "run = wandb.init(\n",
    "    # Set the project where this run will be logged\n",
    "    project=\"TEST\"\n",
    ")"
   ]
  },
  {
   "cell_type": "markdown",
   "metadata": {},
   "source": [
    "### Metric definitions:"
   ]
  },
  {
   "cell_type": "markdown",
   "metadata": {},
   "source": [
    "We use simple criteria to assess the correctness of the generated summaries. Specifically, we use NLTK word_tokenize to check the number of predicted words and compare them with the instruction given."
   ]
  },
  {
   "cell_type": "code",
   "execution_count": 27,
   "metadata": {},
   "outputs": [],
   "source": [
    "def percent_check(input, output, percent):\n",
    "    tokenized_input = word_tokenize(input)\n",
    "    tokenized_output = word_tokenize(output)\n",
    "    if len(output) <= len(input) * percent:\n",
    "        return True\n",
    "    return False\n",
    "\n",
    "def length_check(output, length):\n",
    "    tokenized_input = word_tokenize(input)\n",
    "    tokenized_output = word_tokenize(output)\n",
    "    if len(tokenized_output) <= length:\n",
    "        return True\n",
    "    return False\n",
    "\n",
    "def sentence_check(output, sentence_length):\n",
    "    tokenized_output = sent_tokenize(output)\n",
    "    if len(tokenized_output) <= sentence_length:\n",
    "        return True\n",
    "    return False"
   ]
  },
  {
   "cell_type": "markdown",
   "metadata": {},
   "source": [
    "Furthermore, we should also test the quality of the generated summaries. As we cannot rely on a target summary, we selected BARTScore to evaluate the factualness and semantic similarity of the predicted summary against the source document."
   ]
  },
  {
   "cell_type": "code",
   "execution_count": 28,
   "metadata": {},
   "outputs": [
    {
     "name": "stderr",
     "output_type": "stream",
     "text": [
      "d:\\Anaconda\\Lib\\site-packages\\transformers\\utils\\generic.py:260: UserWarning: torch.utils._pytree._register_pytree_node is deprecated. Please use torch.utils._pytree.register_pytree_node instead.\n",
      "  torch.utils._pytree._register_pytree_node(\n"
     ]
    },
    {
     "data": {
      "application/vnd.jupyter.widget-view+json": {
       "model_id": "e00b4f1897a04a42b921b0b2a2a3c7b9",
       "version_major": 2,
       "version_minor": 0
      },
      "text/plain": [
       "Downloading vocab.json:   0%|          | 0.00/899k [00:00<?, ?B/s]"
      ]
     },
     "metadata": {},
     "output_type": "display_data"
    },
    {
     "name": "stderr",
     "output_type": "stream",
     "text": [
      "d:\\Anaconda\\Lib\\site-packages\\huggingface_hub\\file_download.py:133: UserWarning: `huggingface_hub` cache-system uses symlinks by default to efficiently store duplicated files but your machine does not support them in C:\\Users\\Ciprian\\.cache\\huggingface\\hub. Caching files will still work but in a degraded version that might require more space on your disk. This warning can be disabled by setting the `HF_HUB_DISABLE_SYMLINKS_WARNING` environment variable. For more details, see https://huggingface.co/docs/huggingface_hub/how-to-cache#limitations.\n",
      "To support symlinks on Windows, you either need to activate Developer Mode or to run Python as an administrator. In order to see activate developer mode, see this article: https://docs.microsoft.com/en-us/windows/apps/get-started/enable-your-device-for-development\n",
      "  warnings.warn(message)\n"
     ]
    },
    {
     "data": {
      "application/vnd.jupyter.widget-view+json": {
       "model_id": "c7909a1855c34f9e9cab191f984639f2",
       "version_major": 2,
       "version_minor": 0
      },
      "text/plain": [
       "Downloading merges.txt:   0%|          | 0.00/456k [00:00<?, ?B/s]"
      ]
     },
     "metadata": {},
     "output_type": "display_data"
    },
    {
     "data": {
      "application/vnd.jupyter.widget-view+json": {
       "model_id": "b4886f37b35c43b792dc80a0ca25e925",
       "version_major": 2,
       "version_minor": 0
      },
      "text/plain": [
       "Downloading config.json:   0%|          | 0.00/1.58k [00:00<?, ?B/s]"
      ]
     },
     "metadata": {},
     "output_type": "display_data"
    },
    {
     "data": {
      "application/vnd.jupyter.widget-view+json": {
       "model_id": "09da9a182a7e41cfbaa115b8210d66d7",
       "version_major": 2,
       "version_minor": 0
      },
      "text/plain": [
       "Downloading model.safetensors:   0%|          | 0.00/1.63G [00:00<?, ?B/s]"
      ]
     },
     "metadata": {},
     "output_type": "display_data"
    },
    {
     "data": {
      "application/vnd.jupyter.widget-view+json": {
       "model_id": "2893199688b24024baa251906dd3f64d",
       "version_major": 2,
       "version_minor": 0
      },
      "text/plain": [
       "Downloading generation_config.json:   0%|          | 0.00/363 [00:00<?, ?B/s]"
      ]
     },
     "metadata": {},
     "output_type": "display_data"
    }
   ],
   "source": [
    "from bart_score import BARTScorer\n",
    "\n",
    "scorer = BARTScorer()\n",
    "scorer.load(path=\"bart_score.pth\")\n",
    "\n",
    "def calculate_bart_score(hypotheses, references):\n",
    "    score = scorer.score(references, hypotheses)\n",
    "    return score\n"
   ]
  },
  {
   "cell_type": "code",
   "execution_count": 29,
   "metadata": {},
   "outputs": [
    {
     "data": {
      "text/plain": [
       "[-1.2076964378356934]"
      ]
     },
     "execution_count": 29,
     "metadata": {},
     "output_type": "execute_result"
    }
   ],
   "source": [
    "calculate_bart_score([\"The quick brown fox jumps over the lazy dog\"], [\"The quick brown fox jumps over the lazy dog\"])"
   ]
  }
 ],
 "metadata": {
  "kernelspec": {
   "display_name": "base",
   "language": "python",
   "name": "python3"
  },
  "language_info": {
   "codemirror_mode": {
    "name": "ipython",
    "version": 3
   },
   "file_extension": ".py",
   "mimetype": "text/x-python",
   "name": "python",
   "nbconvert_exporter": "python",
   "pygments_lexer": "ipython3",
   "version": "3.11.5"
  }
 },
 "nbformat": 4,
 "nbformat_minor": 2
}
